{
 "cells": [
  {
   "cell_type": "code",
   "execution_count": 1,
   "metadata": {
    "collapsed": true
   },
   "outputs": [],
   "source": [
    "from flask import Flask, render_template,request,json,jsonify\n",
    "from models import Users, ToDoList\n",
    "\n",
    "app = Flask(__name__)\n"
   ]
  },
  {
   "cell_type": "code",
   "execution_count": null,
   "metadata": {
    "collapsed": true
   },
   "outputs": [],
   "source": [
    "# Loads login page\n",
    "@app.route('/login')\n",
    "@app.route('/')\n",
    "def todo_login():\n",
    "    return render_template('login.html')\n",
    "\n",
    "\n",
    "# loads signup page\n",
    "@app.route('/signup')\n",
    "def todo_signup():\n",
    "    return render_template('signup.html')\n",
    "\n",
    "# loads contact page\n",
    "@app.route('/contact')\n",
    "def todo_contact():\n",
    "    return render_template('contactus.html')\n",
    "\n",
    "# loads aboutus page\n",
    "@app.route('/about')\n",
    "def todo_aboutus():\n",
    "    return render_template('Aboutus.html')\n",
    "\n",
    "# loads home page\n",
    "@app.route('/home')\n",
    "def todo_home():\n",
    "    return render_template('index.html')\n",
    "\n",
    "# loads a main page after user is logged in\n",
    "@app.route('/main')\n",
    "def todo_main():\n",
    "    return render_template('main.html')\n",
    "\n",
    "#sign out page \n",
    "@app.route('/signout')\n",
    "def todo_sign_out():\n",
    "    return render_template('login.html')\n",
    "\n",
    "#Add new task page \n",
    "@app.route('/Add')\n",
    "def todo_Add():\n",
    "    return render_template('Add.html')\n",
    "\n",
    "\n",
    "# view todo lists\n",
    "@app.route('/View')\n",
    "def todo_view():\n",
    "    return render_template('View.html')\n",
    "\n",
    "def serializable(a):\n",
    "    return{\n",
    "        \"id\":a.id,\n",
    "        \"title\":a.title,\n",
    "        \"description\":a.description,\n",
    "    }\n",
    "\n",
    "# get all records from table \"todolist\"\n",
    "@app.route('/getTodolists')\n",
    "def todo_getAllRecords():\n",
    "    arr = ToDoList.get_tasks()\n",
    "    temp = []\n",
    "    for a in arr:\n",
    "        temp.append(serializable(a))\n",
    "    print(temp)\n",
    "    return jsonify(temp)\n",
    "#     print(a)\n",
    "#     arr = []\n",
    "#     for i in a:\n",
    "#         print(i)\n",
    "#         arr.append(i)\n",
    "#     print(arr)\n",
    "#     return json.dumps(arr)\n",
    "\n",
    "@app.route('/register/<email>/<password>')\n",
    "def registration(email,password):\n",
    "    Users.add_user(email,password)\n",
    "    return json.dumps(True)\n",
    "\n",
    "@app.route('/authenticate/<email>/<password>')\n",
    "def verify_login(email,password):\n",
    "    return json.dumps(Users.is_user(email,password))\n",
    "\n",
    "@app.route('/addtask/<title>/<description>')\n",
    "def addtask(title,description):\n",
    "    ToDoList.add_todo(title,description)\n",
    "    return json.dumps(True)\n",
    "\n",
    "\n",
    "@app.route('/deleteAll')\n",
    "def delete_todoAll():\n",
    "    ToDoList.delete_all()\n",
    "    return render_template(\"View.html\")"
   ]
  },
  {
   "cell_type": "code",
   "execution_count": null,
   "metadata": {},
   "outputs": [
    {
     "name": "stderr",
     "output_type": "stream",
     "text": [
      " * Running on http://127.0.0.1:5000/ (Press CTRL+C to quit)\n"
     ]
    }
   ],
   "source": [
    "if __name__ == '__main__':\n",
    "\tapp.run()"
   ]
  },
  {
   "cell_type": "code",
   "execution_count": null,
   "metadata": {
    "collapsed": true
   },
   "outputs": [],
   "source": []
  },
  {
   "cell_type": "code",
   "execution_count": null,
   "metadata": {
    "collapsed": true
   },
   "outputs": [],
   "source": []
  }
 ],
 "metadata": {
  "kernelspec": {
   "display_name": "Python 3",
   "language": "python",
   "name": "python3"
  },
  "language_info": {
   "codemirror_mode": {
    "name": "ipython",
    "version": 3
   },
   "file_extension": ".py",
   "mimetype": "text/x-python",
   "name": "python",
   "nbconvert_exporter": "python",
   "pygments_lexer": "ipython3",
   "version": "3.6.3"
  }
 },
 "nbformat": 4,
 "nbformat_minor": 2
}
