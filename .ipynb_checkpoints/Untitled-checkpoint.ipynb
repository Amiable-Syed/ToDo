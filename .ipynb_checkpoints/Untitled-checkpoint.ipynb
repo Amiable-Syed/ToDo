{
 "cells": [
  {
   "cell_type": "code",
   "execution_count": 1,
   "metadata": {
    "collapsed": true
   },
   "outputs": [],
   "source": [
    "from flask import Flask,render_template,request\n",
    "app = Flask(__name__)\n"
   ]
  },
  {
   "cell_type": "code",
   "execution_count": null,
   "metadata": {},
   "outputs": [],
   "source": [
    "# Loads login page\n",
    "@app.route('/login')\n",
    "@app.route('/')\n",
    "def todo_login():\n",
    "    return render_template('login.html')\n",
    "\n",
    "\n",
    "# loads signup page\n",
    "@app.route('/signup')\n",
    "def todo_signup():\n",
    "    return render_template('signup.html')\n",
    "\n",
    "# loads contact page\n",
    "@app.route('/contact')\n",
    "def todo_contact():\n",
    "    return render_template('contactus.html')\n",
    "\n",
    "# loads aboutus page\n",
    "@app.route('/about')\n",
    "def todo_aboutus():\n",
    "    return render_template('Aboutus.html')\n",
    "\n",
    "# loads home page\n",
    "@app.route('/home')\n",
    "def todo_home():\n",
    "    return render_template('index.html')\n",
    "\n",
    "\n",
    "def hello_world():\n",
    "    if request.method == 'POST':\n",
    "        #Fetch the form data\n",
    "        userDetails = request.form\n",
    "        userDetails['email']\n",
    "        userDetails['password']\n",
    "    return render_template('index.html')\n"
   ]
  },
  {
   "cell_type": "code",
   "execution_count": null,
   "metadata": {},
   "outputs": [
    {
     "name": "stderr",
     "output_type": "stream",
     "text": [
      " * Running on http://127.0.0.1:5000/ (Press CTRL+C to quit)\n",
      "127.0.0.1 - - [14/Jul/2018 00:17:38] \"\u001b[37mGET / HTTP/1.1\u001b[0m\" 200 -\n",
      "127.0.0.1 - - [14/Jul/2018 00:17:40] \"\u001b[37mGET /home HTTP/1.1\u001b[0m\" 200 -\n",
      "127.0.0.1 - - [14/Jul/2018 00:17:41] \"\u001b[37mGET /about HTTP/1.1\u001b[0m\" 200 -\n",
      "127.0.0.1 - - [14/Jul/2018 00:17:41] \"\u001b[37mGET /contact HTTP/1.1\u001b[0m\" 200 -\n",
      "127.0.0.1 - - [14/Jul/2018 00:17:42] \"\u001b[37mGET /login HTTP/1.1\u001b[0m\" 200 -\n",
      "127.0.0.1 - - [14/Jul/2018 00:18:01] \"\u001b[37mGET / HTTP/1.1\u001b[0m\" 200 -\n",
      "127.0.0.1 - - [14/Jul/2018 00:18:12] \"\u001b[37mGET / HTTP/1.1\u001b[0m\" 200 -\n"
     ]
    }
   ],
   "source": [
    "if __name__ == '__main__':\n",
    "\tapp.run();"
   ]
  },
  {
   "cell_type": "code",
   "execution_count": null,
   "metadata": {
    "collapsed": true
   },
   "outputs": [],
   "source": []
  }
 ],
 "metadata": {
  "kernelspec": {
   "display_name": "Python 3",
   "language": "python",
   "name": "python3"
  },
  "language_info": {
   "codemirror_mode": {
    "name": "ipython",
    "version": 3
   },
   "file_extension": ".py",
   "mimetype": "text/x-python",
   "name": "python",
   "nbconvert_exporter": "python",
   "pygments_lexer": "ipython3",
   "version": "3.6.3"
  }
 },
 "nbformat": 4,
 "nbformat_minor": 2
}
