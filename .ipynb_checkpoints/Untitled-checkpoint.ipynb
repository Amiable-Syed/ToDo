{
 "cells": [
  {
   "cell_type": "code",
   "execution_count": 1,
   "metadata": {
    "collapsed": true
   },
   "outputs": [],
   "source": [
    "from flask import Flask,render_template,request\n",
    "app = Flask(__name__)\n"
   ]
  },
  {
   "cell_type": "code",
   "execution_count": null,
   "metadata": {
    "collapsed": true
   },
   "outputs": [],
   "source": [
    "# Loads login page\n",
    "@app.route('/login')\n",
    "@app.route('/')\n",
    "def todo_login():\n",
    "    return render_template('login.html')\n",
    "\n",
    "\n",
    "# loads signup page\n",
    "@app.route('/signup')\n",
    "def todo_signup():\n",
    "    return render_template('signup.html')\n",
    "\n",
    "# loads contact page\n",
    "@app.route('/contact')\n",
    "def todo_contact():\n",
    "    return render_template('contactus.html')\n",
    "\n",
    "# loads aboutus page\n",
    "@app.route('/about')\n",
    "def todo_aboutus():\n",
    "    return render_template('Aboutus.html')\n",
    "\n",
    "# loads home page\n",
    "@app.route('/home')\n",
    "def todo_home():\n",
    "    return render_template('index.html')\n",
    "\n",
    "# loads a main page after user is logged in\n",
    "@app.route('/main')\n",
    "def todo_main():\n",
    "    return render_template('main.html')\n",
    "\n",
    "#sign out page \n",
    "@app.route('/signout')\n",
    "def todo_sign_out():\n",
    "    return render_template('login.html')\n",
    "\n",
    "#Add new task page \n",
    "@app.route('/Add')\n",
    "def todo_Add():\n",
    "    return render_template('Add.html')\n",
    "\n",
    "\n",
    "def hello_world():\n",
    "    if request.method == 'POST':\n",
    "        #Fetch the form data\n",
    "        userDetails = request.form\n",
    "        userDetails['email']\n",
    "        userDetails['password']\n",
    "    return render_template('index.html')\n"
   ]
  },
  {
   "cell_type": "code",
   "execution_count": null,
   "metadata": {},
   "outputs": [
    {
     "name": "stderr",
     "output_type": "stream",
     "text": [
      " * Running on http://127.0.0.1:5000/ (Press CTRL+C to quit)\n",
      "127.0.0.1 - - [14/Jul/2018 14:05:23] \"\u001b[37mGET / HTTP/1.1\u001b[0m\" 200 -\n",
      "127.0.0.1 - - [14/Jul/2018 14:05:23] \"\u001b[37mGET /static/css/styles.css HTTP/1.1\u001b[0m\" 200 -\n",
      "127.0.0.1 - - [14/Jul/2018 14:05:27] \"\u001b[37mGET /home HTTP/1.1\u001b[0m\" 200 -\n",
      "127.0.0.1 - - [14/Jul/2018 14:05:27] \"\u001b[37mGET /static/images/login.png HTTP/1.1\u001b[0m\" 200 -\n",
      "127.0.0.1 - - [14/Jul/2018 14:05:27] \"\u001b[37mGET /static/images/logo.png HTTP/1.1\u001b[0m\" 200 -\n",
      "127.0.0.1 - - [14/Jul/2018 14:05:27] \"\u001b[33mGET /favicon.ico HTTP/1.1\u001b[0m\" 404 -\n",
      "127.0.0.1 - - [14/Jul/2018 14:05:28] \"\u001b[37mGET /static/images/home-todo-section.jpg HTTP/1.1\u001b[0m\" 200 -\n",
      "127.0.0.1 - - [14/Jul/2018 14:05:28] \"\u001b[37mGET /static/images/def-todo-section.jpg HTTP/1.1\u001b[0m\" 200 -\n",
      "127.0.0.1 - - [14/Jul/2018 14:05:28] \"\u001b[33mGET /favicon.ico HTTP/1.1\u001b[0m\" 404 -\n",
      "127.0.0.1 - - [14/Jul/2018 14:05:30] \"\u001b[37mGET /login HTTP/1.1\u001b[0m\" 200 -\n",
      "127.0.0.1 - - [14/Jul/2018 14:05:30] \"\u001b[36mGET /static/images/login.png HTTP/1.1\u001b[0m\" 304 -\n",
      "127.0.0.1 - - [14/Jul/2018 14:05:32] \"\u001b[37mGET /main HTTP/1.1\u001b[0m\" 200 -\n",
      "127.0.0.1 - - [14/Jul/2018 14:05:34] \"\u001b[37mGET /main HTTP/1.1\u001b[0m\" 200 -\n",
      "127.0.0.1 - - [14/Jul/2018 14:05:34] \"\u001b[37mGET /main HTTP/1.1\u001b[0m\" 200 -\n",
      "127.0.0.1 - - [14/Jul/2018 14:05:35] \"\u001b[37mGET /main HTTP/1.1\u001b[0m\" 200 -\n",
      "127.0.0.1 - - [14/Jul/2018 14:05:35] \"\u001b[37mGET /main HTTP/1.1\u001b[0m\" 200 -\n",
      "127.0.0.1 - - [14/Jul/2018 14:05:36] \"\u001b[37mGET /main HTTP/1.1\u001b[0m\" 200 -\n"
     ]
    }
   ],
   "source": [
    "if __name__ == '__main__':\n",
    "\tapp.run();"
   ]
  },
  {
   "cell_type": "code",
   "execution_count": null,
   "metadata": {
    "collapsed": true
   },
   "outputs": [],
   "source": []
  }
 ],
 "metadata": {
  "kernelspec": {
   "display_name": "Python 3",
   "language": "python",
   "name": "python3"
  },
  "language_info": {
   "codemirror_mode": {
    "name": "ipython",
    "version": 3
   },
   "file_extension": ".py",
   "mimetype": "text/x-python",
   "name": "python",
   "nbconvert_exporter": "python",
   "pygments_lexer": "ipython3",
   "version": "3.6.3"
  }
 },
 "nbformat": 4,
 "nbformat_minor": 2
}
